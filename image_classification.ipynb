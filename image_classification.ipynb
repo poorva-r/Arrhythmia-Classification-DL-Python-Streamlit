{
  "cells": [
    {
      "cell_type": "markdown",
      "id": "2226bd15",
      "metadata": {
        "id": "2226bd15"
      },
      "source": [
        "N: Normal beat\n",
        "S: Supraventricular premature beat\n",
        "V: Premature ventricular contraction\n",
        "F: Fusion of ventricular and normal beat\n",
        "Q: Unclassifiable beat\n",
        "M: myocardial infarction"
      ]
    },
    {
      "cell_type": "code",
      "source": [
        "from google.colab import drive\n",
        "drive.mount('/content/drive')"
      ],
      "metadata": {
        "colab": {
          "base_uri": "https://localhost:8080/"
        },
        "id": "Sud8CsqRxvWR",
        "outputId": "2c17025a-06fa-4f77-917d-19830ee363b0"
      },
      "id": "Sud8CsqRxvWR",
      "execution_count": null,
      "outputs": [
        {
          "output_type": "stream",
          "name": "stdout",
          "text": [
            "Mounted at /content/drive\n"
          ]
        }
      ]
    },
    {
      "cell_type": "code",
      "source": [
        "import os\n",
        "os.chdir('/content/drive/My Drive/Arrhythmia_Classification_Project')"
      ],
      "metadata": {
        "id": "O6xf7O2ryOaj"
      },
      "id": "O6xf7O2ryOaj",
      "execution_count": null,
      "outputs": []
    },
    {
      "cell_type": "code",
      "execution_count": null,
      "id": "9d86ea41",
      "metadata": {
        "id": "9d86ea41"
      },
      "outputs": [],
      "source": [
        "import numpy as np\n",
        "import pandas as pd\n",
        "from pathlib import Path\n",
        "import os.path\n",
        "import matplotlib.pyplot as plt\n",
        "import tensorflow as tf"
      ]
    },
    {
      "cell_type": "code",
      "execution_count": null,
      "id": "648da9cc",
      "metadata": {
        "id": "648da9cc"
      },
      "outputs": [],
      "source": [
        "from keras.layers import Input, Lambda, Dense, Flatten\n",
        "from keras.models import Model\n",
        "from keras.applications.vgg19 import VGG19\n",
        "from keras.applications.vgg16 import preprocess_input\n",
        "from keras.preprocessing import image\n",
        "from keras.preprocessing.image import ImageDataGenerator\n",
        "from keras.models import Sequential\n",
        "import numpy as np\n",
        "from glob import glob\n",
        "import matplotlib.pyplot as plt"
      ]
    },
    {
      "cell_type": "code",
      "execution_count": null,
      "id": "7570c450",
      "metadata": {
        "id": "7570c450"
      },
      "outputs": [],
      "source": [
        "train_path = '/content/drive/My Drive/Arrhythmia_Classification_Project/ECG_Image_data/train'\n",
        "valid_path = '/content/drive/My Drive/Arrhythmia_Classification_Project/ECG_Image_data/test'"
      ]
    },
    {
      "cell_type": "code",
      "execution_count": null,
      "id": "5722f2b2",
      "metadata": {
        "id": "5722f2b2",
        "colab": {
          "base_uri": "https://localhost:8080/"
        },
        "outputId": "44420173-d897-4d0f-e52e-2ef500953f8a"
      },
      "outputs": [
        {
          "output_type": "stream",
          "name": "stdout",
          "text": [
            "Downloading data from https://storage.googleapis.com/tensorflow/keras-applications/vgg19/vgg19_weights_tf_dim_ordering_tf_kernels_notop.h5\n",
            "80134624/80134624 [==============================] - 1s 0us/step\n"
          ]
        }
      ],
      "source": [
        "IMAGE_SIZE = [224, 224]\n",
        "vgg = VGG19(input_shape=IMAGE_SIZE + [3], weights='imagenet', include_top=False)\n",
        "# creates an instance of the VGG19 model with specific input shape, pre-trained weights from ImageNet, and excludes the fully connected classification layers"
      ]
    },
    {
      "cell_type": "code",
      "execution_count": null,
      "id": "22b332ca",
      "metadata": {
        "id": "22b332ca",
        "outputId": "bc96b10d-ee05-46e5-8042-058fb3fc38a0",
        "colab": {
          "base_uri": "https://localhost:8080/"
        }
      },
      "outputs": [
        {
          "output_type": "stream",
          "name": "stdout",
          "text": [
            "Model: \"vgg19\"\n",
            "_________________________________________________________________\n",
            " Layer (type)                Output Shape              Param #   \n",
            "=================================================================\n",
            " input_1 (InputLayer)        [(None, 224, 224, 3)]     0         \n",
            "                                                                 \n",
            " block1_conv1 (Conv2D)       (None, 224, 224, 64)      1792      \n",
            "                                                                 \n",
            " block1_conv2 (Conv2D)       (None, 224, 224, 64)      36928     \n",
            "                                                                 \n",
            " block1_pool (MaxPooling2D)  (None, 112, 112, 64)      0         \n",
            "                                                                 \n",
            " block2_conv1 (Conv2D)       (None, 112, 112, 128)     73856     \n",
            "                                                                 \n",
            " block2_conv2 (Conv2D)       (None, 112, 112, 128)     147584    \n",
            "                                                                 \n",
            " block2_pool (MaxPooling2D)  (None, 56, 56, 128)       0         \n",
            "                                                                 \n",
            " block3_conv1 (Conv2D)       (None, 56, 56, 256)       295168    \n",
            "                                                                 \n",
            " block3_conv2 (Conv2D)       (None, 56, 56, 256)       590080    \n",
            "                                                                 \n",
            " block3_conv3 (Conv2D)       (None, 56, 56, 256)       590080    \n",
            "                                                                 \n",
            " block3_conv4 (Conv2D)       (None, 56, 56, 256)       590080    \n",
            "                                                                 \n",
            " block3_pool (MaxPooling2D)  (None, 28, 28, 256)       0         \n",
            "                                                                 \n",
            " block4_conv1 (Conv2D)       (None, 28, 28, 512)       1180160   \n",
            "                                                                 \n",
            " block4_conv2 (Conv2D)       (None, 28, 28, 512)       2359808   \n",
            "                                                                 \n",
            " block4_conv3 (Conv2D)       (None, 28, 28, 512)       2359808   \n",
            "                                                                 \n",
            " block4_conv4 (Conv2D)       (None, 28, 28, 512)       2359808   \n",
            "                                                                 \n",
            " block4_pool (MaxPooling2D)  (None, 14, 14, 512)       0         \n",
            "                                                                 \n",
            " block5_conv1 (Conv2D)       (None, 14, 14, 512)       2359808   \n",
            "                                                                 \n",
            " block5_conv2 (Conv2D)       (None, 14, 14, 512)       2359808   \n",
            "                                                                 \n",
            " block5_conv3 (Conv2D)       (None, 14, 14, 512)       2359808   \n",
            "                                                                 \n",
            " block5_conv4 (Conv2D)       (None, 14, 14, 512)       2359808   \n",
            "                                                                 \n",
            " block5_pool (MaxPooling2D)  (None, 7, 7, 512)         0         \n",
            "                                                                 \n",
            "=================================================================\n",
            "Total params: 20,024,384\n",
            "Trainable params: 20,024,384\n",
            "Non-trainable params: 0\n",
            "_________________________________________________________________\n"
          ]
        }
      ],
      "source": [
        "vgg.summary()"
      ]
    },
    {
      "cell_type": "code",
      "execution_count": null,
      "id": "39289b11",
      "metadata": {
        "id": "39289b11"
      },
      "outputs": [],
      "source": [
        "for layer in vgg.layers:\n",
        "  layer.trainable = False"
      ]
    },
    {
      "cell_type": "code",
      "execution_count": null,
      "id": "e25a64f8",
      "metadata": {
        "id": "e25a64f8"
      },
      "outputs": [],
      "source": [
        "from glob import glob\n",
        "\n",
        "folders = glob('/content/drive/My Drive/Arrhythmia_Classification_Project/ECG_Image_Data/train/*')"
      ]
    },
    {
      "cell_type": "code",
      "execution_count": null,
      "id": "2113322c",
      "metadata": {
        "id": "2113322c",
        "outputId": "b9df6ba6-e23e-47d8-f8a8-f1acd8d85d50",
        "colab": {
          "base_uri": "https://localhost:8080/"
        }
      },
      "outputs": [
        {
          "output_type": "execute_result",
          "data": {
            "text/plain": [
              "['/content/drive/My Drive/Arrhythmia_Classification_Project/ECG_Image_Data/train/F',\n",
              " '/content/drive/My Drive/Arrhythmia_Classification_Project/ECG_Image_Data/train/S',\n",
              " '/content/drive/My Drive/Arrhythmia_Classification_Project/ECG_Image_Data/train/V',\n",
              " '/content/drive/My Drive/Arrhythmia_Classification_Project/ECG_Image_Data/train/Q',\n",
              " '/content/drive/My Drive/Arrhythmia_Classification_Project/ECG_Image_Data/train/N',\n",
              " '/content/drive/My Drive/Arrhythmia_Classification_Project/ECG_Image_Data/train/M']"
            ]
          },
          "metadata": {},
          "execution_count": 10
        }
      ],
      "source": [
        "folders"
      ]
    },
    {
      "cell_type": "code",
      "execution_count": null,
      "id": "50e62b7f",
      "metadata": {
        "id": "50e62b7f",
        "outputId": "83452370-8d8b-4b4d-a7ac-74262b1a24ea",
        "colab": {
          "base_uri": "https://localhost:8080/"
        }
      },
      "outputs": [
        {
          "output_type": "execute_result",
          "data": {
            "text/plain": [
              "<KerasTensor: shape=(None, 7, 7, 512) dtype=float32 (created by layer 'block5_pool')>"
            ]
          },
          "metadata": {},
          "execution_count": 11
        }
      ],
      "source": [
        "vgg.output"
      ]
    },
    {
      "cell_type": "code",
      "execution_count": null,
      "id": "813d96b6",
      "metadata": {
        "id": "813d96b6"
      },
      "outputs": [],
      "source": [
        "x = Flatten()(vgg.output)"
      ]
    },
    {
      "cell_type": "code",
      "execution_count": null,
      "id": "db30b8d2",
      "metadata": {
        "id": "db30b8d2",
        "outputId": "41ece070-8fe9-4b0e-8617-73892d92090b",
        "colab": {
          "base_uri": "https://localhost:8080/"
        }
      },
      "outputs": [
        {
          "output_type": "execute_result",
          "data": {
            "text/plain": [
              "<KerasTensor: shape=(None, 25088) dtype=float32 (created by layer 'flatten')>"
            ]
          },
          "metadata": {},
          "execution_count": 13
        }
      ],
      "source": [
        "x"
      ]
    },
    {
      "cell_type": "code",
      "execution_count": null,
      "id": "00a470c9",
      "metadata": {
        "id": "00a470c9"
      },
      "outputs": [],
      "source": [
        "prediction = Dense(len(folders), activation='softmax')(x)\n",
        "model = Model(inputs=vgg.input, outputs=prediction)"
      ]
    },
    {
      "cell_type": "code",
      "execution_count": null,
      "id": "029b2a87",
      "metadata": {
        "id": "029b2a87",
        "outputId": "98799c86-3f45-46c1-9ea7-b30dc2b880c4",
        "colab": {
          "base_uri": "https://localhost:8080/"
        }
      },
      "outputs": [
        {
          "output_type": "stream",
          "name": "stdout",
          "text": [
            "Model: \"model\"\n",
            "_________________________________________________________________\n",
            " Layer (type)                Output Shape              Param #   \n",
            "=================================================================\n",
            " input_1 (InputLayer)        [(None, 224, 224, 3)]     0         \n",
            "                                                                 \n",
            " block1_conv1 (Conv2D)       (None, 224, 224, 64)      1792      \n",
            "                                                                 \n",
            " block1_conv2 (Conv2D)       (None, 224, 224, 64)      36928     \n",
            "                                                                 \n",
            " block1_pool (MaxPooling2D)  (None, 112, 112, 64)      0         \n",
            "                                                                 \n",
            " block2_conv1 (Conv2D)       (None, 112, 112, 128)     73856     \n",
            "                                                                 \n",
            " block2_conv2 (Conv2D)       (None, 112, 112, 128)     147584    \n",
            "                                                                 \n",
            " block2_pool (MaxPooling2D)  (None, 56, 56, 128)       0         \n",
            "                                                                 \n",
            " block3_conv1 (Conv2D)       (None, 56, 56, 256)       295168    \n",
            "                                                                 \n",
            " block3_conv2 (Conv2D)       (None, 56, 56, 256)       590080    \n",
            "                                                                 \n",
            " block3_conv3 (Conv2D)       (None, 56, 56, 256)       590080    \n",
            "                                                                 \n",
            " block3_conv4 (Conv2D)       (None, 56, 56, 256)       590080    \n",
            "                                                                 \n",
            " block3_pool (MaxPooling2D)  (None, 28, 28, 256)       0         \n",
            "                                                                 \n",
            " block4_conv1 (Conv2D)       (None, 28, 28, 512)       1180160   \n",
            "                                                                 \n",
            " block4_conv2 (Conv2D)       (None, 28, 28, 512)       2359808   \n",
            "                                                                 \n",
            " block4_conv3 (Conv2D)       (None, 28, 28, 512)       2359808   \n",
            "                                                                 \n",
            " block4_conv4 (Conv2D)       (None, 28, 28, 512)       2359808   \n",
            "                                                                 \n",
            " block4_pool (MaxPooling2D)  (None, 14, 14, 512)       0         \n",
            "                                                                 \n",
            " block5_conv1 (Conv2D)       (None, 14, 14, 512)       2359808   \n",
            "                                                                 \n",
            " block5_conv2 (Conv2D)       (None, 14, 14, 512)       2359808   \n",
            "                                                                 \n",
            " block5_conv3 (Conv2D)       (None, 14, 14, 512)       2359808   \n",
            "                                                                 \n",
            " block5_conv4 (Conv2D)       (None, 14, 14, 512)       2359808   \n",
            "                                                                 \n",
            " block5_pool (MaxPooling2D)  (None, 7, 7, 512)         0         \n",
            "                                                                 \n",
            " flatten (Flatten)           (None, 25088)             0         \n",
            "                                                                 \n",
            " dense (Dense)               (None, 6)                 150534    \n",
            "                                                                 \n",
            "=================================================================\n",
            "Total params: 20,174,918\n",
            "Trainable params: 150,534\n",
            "Non-trainable params: 20,024,384\n",
            "_________________________________________________________________\n"
          ]
        }
      ],
      "source": [
        "model.summary()"
      ]
    },
    {
      "cell_type": "code",
      "execution_count": null,
      "id": "98f50082",
      "metadata": {
        "id": "98f50082"
      },
      "outputs": [],
      "source": [
        "model.compile(\n",
        "  loss='categorical_crossentropy',\n",
        "  optimizer='adam',\n",
        "  metrics=['accuracy']\n",
        ")"
      ]
    },
    {
      "cell_type": "code",
      "execution_count": null,
      "id": "f3988eab",
      "metadata": {
        "id": "f3988eab",
        "outputId": "762e33c3-5f81-406b-bc7a-0634397a6acb",
        "colab": {
          "base_uri": "https://localhost:8080/"
        }
      },
      "outputs": [
        {
          "output_type": "stream",
          "name": "stdout",
          "text": [
            "Found 19025 images belonging to 6 classes.\n"
          ]
        }
      ],
      "source": [
        "from keras.preprocessing.image import ImageDataGenerator\n",
        "\n",
        "train_datagen = ImageDataGenerator(rescale = 1./255,\n",
        "                                   shear_range = 0.2,\n",
        "                                   zoom_range = 0.2,\n",
        "                                   horizontal_flip = True)\n",
        "\n",
        "training_set = train_datagen.flow_from_directory('/content/drive/My Drive/Arrhythmia_Classification_Project/ECG_Image_Data/train',\n",
        "                                                 target_size = (224, 224),\n",
        "                                                 batch_size = 32,\n",
        "                                                 class_mode = 'categorical')"
      ]
    },
    {
      "cell_type": "code",
      "execution_count": null,
      "id": "b8f01e1d",
      "metadata": {
        "id": "b8f01e1d",
        "outputId": "570c08cd-6272-4937-ebf6-d4a0868fc133",
        "colab": {
          "base_uri": "https://localhost:8080/"
        }
      },
      "outputs": [
        {
          "output_type": "stream",
          "name": "stdout",
          "text": [
            "Found 4791 images belonging to 6 classes.\n"
          ]
        }
      ],
      "source": [
        "test_datagen = ImageDataGenerator(rescale = 1./255)\n",
        "\n",
        "test_set = test_datagen.flow_from_directory('/content/drive/My Drive/Arrhythmia_Classification_Project/ECG_Image_Data/test',\n",
        "                                            target_size = (224, 224),\n",
        "                                            batch_size = 32,\n",
        "                                            class_mode = 'categorical')"
      ]
    },
    {
      "cell_type": "code",
      "source": [
        "len(training_set)"
      ],
      "metadata": {
        "colab": {
          "base_uri": "https://localhost:8080/"
        },
        "id": "qq7UAH1965sm",
        "outputId": "e7d1a304-5271-4bc5-c3b0-a51ae9d07061"
      },
      "id": "qq7UAH1965sm",
      "execution_count": null,
      "outputs": [
        {
          "output_type": "execute_result",
          "data": {
            "text/plain": [
              "595"
            ]
          },
          "metadata": {},
          "execution_count": 19
        }
      ]
    },
    {
      "cell_type": "code",
      "source": [
        "len(test_set)"
      ],
      "metadata": {
        "colab": {
          "base_uri": "https://localhost:8080/"
        },
        "id": "riGpKxV-EhZ2",
        "outputId": "99ef4f91-9dae-4e86-de35-19672b81e074"
      },
      "id": "riGpKxV-EhZ2",
      "execution_count": null,
      "outputs": [
        {
          "output_type": "execute_result",
          "data": {
            "text/plain": [
              "150"
            ]
          },
          "metadata": {},
          "execution_count": 20
        }
      ]
    },
    {
      "cell_type": "code",
      "execution_count": null,
      "id": "a25e7ca6",
      "metadata": {
        "id": "a25e7ca6",
        "outputId": "c8970a27-cd29-4ed0-a494-eddbb2119c7a",
        "colab": {
          "base_uri": "https://localhost:8080/"
        }
      },
      "outputs": [
        {
          "metadata": {
            "tags": null
          },
          "name": "stderr",
          "output_type": "stream",
          "text": [
            "<ipython-input-21-28ef0e444b37>:1: UserWarning: `Model.fit_generator` is deprecated and will be removed in a future version. Please use `Model.fit`, which supports generators.\n",
            "  r = model.fit_generator(\n"
          ]
        },
        {
          "output_type": "stream",
          "name": "stdout",
          "text": [
            "Epoch 1/4\n",
            "32/32 [==============================] - 1024s 32s/step - loss: 1.2503 - accuracy: 0.6592 - val_loss: 0.6891 - val_accuracy: 0.7312\n",
            "Epoch 2/4\n",
            "32/32 [==============================] - 1023s 32s/step - loss: 0.2276 - accuracy: 0.9434 - val_loss: 0.1337 - val_accuracy: 0.9750\n",
            "Epoch 3/4\n",
            "32/32 [==============================] - 994s 31s/step - loss: 0.1356 - accuracy: 0.9658 - val_loss: 0.1104 - val_accuracy: 0.9688\n",
            "Epoch 4/4\n",
            "32/32 [==============================] - 1014s 32s/step - loss: 0.0962 - accuracy: 0.9814 - val_loss: 0.1198 - val_accuracy: 0.9719\n"
          ]
        }
      ],
      "source": [
        "r = model.fit_generator(\n",
        "  training_set,\n",
        "  validation_data=test_set,\n",
        "  epochs=4,\n",
        "  steps_per_epoch=32,\n",
        "  validation_steps= 10\n",
        ")"
      ]
    },
    {
      "cell_type": "code",
      "source": [
        "model.save('model_vgg19')"
      ],
      "metadata": {
        "colab": {
          "base_uri": "https://localhost:8080/"
        },
        "id": "-8JZZk7Mr-jk",
        "outputId": "4b441ce9-f54d-480f-ce6d-2bfd4cc8a025"
      },
      "id": "-8JZZk7Mr-jk",
      "execution_count": null,
      "outputs": [
        {
          "output_type": "stream",
          "name": "stderr",
          "text": [
            "WARNING:absl:Found untraced functions such as _jit_compiled_convolution_op, _jit_compiled_convolution_op, _jit_compiled_convolution_op, _jit_compiled_convolution_op, _jit_compiled_convolution_op while saving (showing 5 of 17). These functions will not be directly callable after loading.\n"
          ]
        }
      ]
    },
    {
      "cell_type": "code",
      "source": [
        "print(r.history['accuracy'])"
      ],
      "metadata": {
        "colab": {
          "base_uri": "https://localhost:8080/"
        },
        "id": "j7DkPbyRnund",
        "outputId": "a05e9167-5868-4c3c-f547-ccc4643248df"
      },
      "id": "j7DkPbyRnund",
      "execution_count": null,
      "outputs": [
        {
          "output_type": "stream",
          "name": "stdout",
          "text": [
            "[0.6591796875, 0.943359375, 0.9658203125, 0.9814453125]\n"
          ]
        }
      ]
    },
    {
      "cell_type": "code",
      "source": [
        "print(r.history['val_accuracy'])"
      ],
      "metadata": {
        "colab": {
          "base_uri": "https://localhost:8080/"
        },
        "id": "QXb7ADz1oAjp",
        "outputId": "f91f1876-7205-4487-96cc-66682e9d753b"
      },
      "id": "QXb7ADz1oAjp",
      "execution_count": null,
      "outputs": [
        {
          "output_type": "stream",
          "name": "stdout",
          "text": [
            "[0.731249988079071, 0.9750000238418579, 0.96875, 0.971875011920929]\n"
          ]
        }
      ]
    },
    {
      "cell_type": "code",
      "execution_count": null,
      "id": "561d73dc",
      "metadata": {
        "id": "561d73dc",
        "colab": {
          "base_uri": "https://localhost:8080/",
          "height": 430
        },
        "outputId": "225d5777-a063-4278-bc26-dbab03e14244"
      },
      "outputs": [
        {
          "output_type": "display_data",
          "data": {
            "text/plain": [
              "<Figure size 640x480 with 1 Axes>"
            ],
            "image/png": "[encoded data removed]"
          },
          "metadata": {}
        }
      ],
      "source": [
        "plt.plot(r.history['accuracy'], label='train accuracy')\n",
        "plt.plot(r.history['val_accuracy'], label='val accuracy')\n",
        "plt.legend()\n",
        "plt.show()\n",
        "# plt.savefig('AccVal_accuracy')"
      ]
    },
    {
      "cell_type": "code",
      "execution_count": null,
      "id": "7ddfa7ef",
      "metadata": {
        "id": "7ddfa7ef",
        "colab": {
          "base_uri": "https://localhost:8080/",
          "height": 430
        },
        "outputId": "d602b16b-296e-4146-f414-c6335937255f"
      },
      "outputs": [
        {
          "output_type": "display_data",
          "data": {
            "text/plain": [
              "<Figure size 640x480 with 1 Axes>"
            ],
            "image/png": "[encoded data removed]"
          },
          "metadata": {}
        }
      ],
      "source": [
        "plt.plot(r.history['loss'], label='train loss')\n",
        "plt.plot(r.history['val_loss'], label='val loss')\n",
        "plt.legend()\n",
        "plt.show()\n",
        "# plt.savefig('LossVal_loss')"
      ]
    },
    {
      "cell_type": "code",
      "execution_count": null,
      "id": "efb8ff89",
      "metadata": {
        "id": "efb8ff89"
      },
      "outputs": [],
      "source": [
        "y_true = test_set.classes"
      ]
    },
    {
      "cell_type": "code",
      "source": [
        "r2 = model.fit_generator(\n",
        "  training_set,\n",
        "  validation_data=test_set,\n",
        "  epochs=4,\n",
        "  steps_per_epoch=64,\n",
        "  validation_steps= 10\n",
        ")"
      ],
      "metadata": {
        "colab": {
          "base_uri": "https://localhost:8080/"
        },
        "id": "hKBAd21Y-GFM",
        "outputId": "efb8c730-5ced-455e-d94d-0abbe62fb8df"
      },
      "id": "hKBAd21Y-GFM",
      "execution_count": null,
      "outputs": [
        {
          "output_type": "stream",
          "name": "stderr",
          "text": [
            "<ipython-input-21-efbd8d9cf177>:1: UserWarning: `Model.fit_generator` is deprecated and will be removed in a future version. Please use `Model.fit`, which supports generators.\n",
            "  r2 = model.fit_generator(\n"
          ]
        },
        {
          "output_type": "stream",
          "name": "stdout",
          "text": [
            "Epoch 1/4\n",
            "64/64 [==============================] - 2122s 33s/step - loss: 0.7205 - accuracy: 0.7856 - val_loss: 0.1760 - val_accuracy: 0.9688\n",
            "Epoch 2/4\n",
            "64/64 [==============================] - 2083s 33s/step - loss: 0.1144 - accuracy: 0.9775 - val_loss: 0.0849 - val_accuracy: 0.9812\n",
            "Epoch 3/4\n",
            "64/64 [==============================] - 2091s 33s/step - loss: 0.0759 - accuracy: 0.9863 - val_loss: 0.0488 - val_accuracy: 0.9937\n",
            "Epoch 4/4\n",
            "64/64 [==============================] - 2064s 32s/step - loss: 0.0523 - accuracy: 0.9917 - val_loss: 0.0562 - val_accuracy: 0.9844\n"
          ]
        }
      ]
    },
    {
      "cell_type": "code",
      "source": [
        "model.save('model_vgg19_2')"
      ],
      "metadata": {
        "colab": {
          "base_uri": "https://localhost:8080/"
        },
        "id": "DgHFPGYy-GCw",
        "outputId": "7f57591a-010e-48e1-a1a1-162444d05b88"
      },
      "id": "DgHFPGYy-GCw",
      "execution_count": null,
      "outputs": [
        {
          "output_type": "stream",
          "name": "stderr",
          "text": [
            "WARNING:absl:Found untraced functions such as _jit_compiled_convolution_op, _jit_compiled_convolution_op, _jit_compiled_convolution_op, _jit_compiled_convolution_op, _jit_compiled_convolution_op while saving (showing 5 of 17). These functions will not be directly callable after loading.\n"
          ]
        }
      ]
    },
    {
      "cell_type": "code",
      "source": [
        "print(r2.history['accuracy'])"
      ],
      "metadata": {
        "colab": {
          "base_uri": "https://localhost:8080/"
        },
        "id": "FqRQsCiv-F_7",
        "outputId": "775b3fe8-1497-4589-ee9d-3d4d317cbaa3"
      },
      "id": "FqRQsCiv-F_7",
      "execution_count": null,
      "outputs": [
        {
          "output_type": "stream",
          "name": "stdout",
          "text": [
            "[0.78564453125, 0.9775390625, 0.986328125, 0.99169921875]\n"
          ]
        }
      ]
    },
    {
      "cell_type": "code",
      "source": [
        "print(r2.history['val_accuracy'])"
      ],
      "metadata": {
        "colab": {
          "base_uri": "https://localhost:8080/"
        },
        "id": "Zu7KOswl-F9h",
        "outputId": "01f57947-9dad-4e41-8cf1-e311733c6a9f"
      },
      "id": "Zu7KOswl-F9h",
      "execution_count": null,
      "outputs": [
        {
          "output_type": "stream",
          "name": "stdout",
          "text": [
            "[0.96875, 0.981249988079071, 0.9937499761581421, 0.984375]\n"
          ]
        }
      ]
    },
    {
      "cell_type": "code",
      "source": [
        "plt.plot(r2.history['accuracy'], label='train accuracy')\n",
        "plt.plot(r2.history['val_accuracy'], label='val accuracy')\n",
        "plt.legend()\n",
        "plt.show()\n",
        "# plt.savefig('AccVal_accuracy')"
      ],
      "metadata": {
        "colab": {
          "base_uri": "https://localhost:8080/",
          "height": 430
        },
        "id": "QHQpTZ6d-F6v",
        "outputId": "63a5b9e5-adea-4650-8caf-81ad466c8ed0"
      },
      "id": "QHQpTZ6d-F6v",
      "execution_count": null,
      "outputs": [
        {
          "output_type": "display_data",
          "data": {
            "text/plain": [
              "<Figure size 640x480 with 1 Axes>"
            ],
            "image/png": "[encoded data removed]"
          },
          "metadata": {}
        }
      ]
    },
    {
      "cell_type": "code",
      "source": [
        "plt.plot(r2.history['loss'], label='train loss')\n",
        "plt.plot(r2.history['val_loss'], label='val loss')\n",
        "plt.legend()\n",
        "plt.show()"
      ],
      "metadata": {
        "colab": {
          "base_uri": "https://localhost:8080/",
          "height": 430
        },
        "id": "b3bAMVC1-F3T",
        "outputId": "45f0d040-2b4a-4db0-f8d3-a67734038888"
      },
      "id": "b3bAMVC1-F3T",
      "execution_count": null,
      "outputs": [
        {
          "output_type": "display_data",
          "data": {
            "text/plain": [
              "<Figure size 640x480 with 1 Axes>"
            ],
            "image/png": "[encoded data removed]"
          },
          "metadata": {}
        }
      ]
    },
    {
      "cell_type": "code",
      "source": [],
      "metadata": {
        "id": "i2FYYFX_-FxD"
      },
      "id": "i2FYYFX_-FxD",
      "execution_count": null,
      "outputs": []
    },
    {
      "cell_type": "code",
      "source": [
        "np.unique(y_true)"
      ],
      "metadata": {
        "colab": {
          "base_uri": "https://localhost:8080/"
        },
        "id": "XZtvgDvlwWCX",
        "outputId": "85adc29b-d187-424d-d5e2-0fbf7d25a9d4"
      },
      "id": "XZtvgDvlwWCX",
      "execution_count": null,
      "outputs": [
        {
          "output_type": "execute_result",
          "data": {
            "text/plain": [
              "array([0, 1, 2, 3, 4, 5], dtype=int32)"
            ]
          },
          "metadata": {},
          "execution_count": 22
        }
      ]
    },
    {
      "cell_type": "code",
      "source": [
        "model = tf.keras.models.load_model('/content/drive/MyDrive/Arrhythmia_Classification_Project/model_vgg19')"
      ],
      "metadata": {
        "id": "gDOA-Z53hHVY"
      },
      "id": "gDOA-Z53hHVY",
      "execution_count": null,
      "outputs": []
    },
    {
      "cell_type": "code",
      "source": [
        "model2 = tf.keras.models.load_model('/content/drive/MyDrive/Arrhythmia_Classification_Project/model_vgg19_2')"
      ],
      "metadata": {
        "id": "wWJhE-t0gdqR"
      },
      "id": "wWJhE-t0gdqR",
      "execution_count": null,
      "outputs": []
    },
    {
      "cell_type": "code",
      "execution_count": null,
      "id": "c419ca4d",
      "metadata": {
        "id": "c419ca4d",
        "colab": {
          "base_uri": "https://localhost:8080/"
        },
        "outputId": "436699b4-ab3f-40e7-c65e-03ffe73ec3d9"
      },
      "outputs": [
        {
          "output_type": "stream",
          "name": "stdout",
          "text": [
            "86/86 [==============================] - 2114s 25s/step\n"
          ]
        }
      ],
      "source": [
        "y_pred = model.predict(test_set)"
      ]
    },
    {
      "cell_type": "code",
      "source": [
        "y_pred = model2.predict(test_set)"
      ],
      "metadata": {
        "colab": {
          "base_uri": "https://localhost:8080/"
        },
        "id": "w7fHwwrtgiEy",
        "outputId": "5312a9d5-c2ad-485e-b75d-fc089477ac37"
      },
      "id": "w7fHwwrtgiEy",
      "execution_count": null,
      "outputs": [
        {
          "output_type": "stream",
          "name": "stdout",
          "text": [
            "150/150 [==============================] - 3981s 27s/step\n"
          ]
        }
      ]
    },
    {
      "cell_type": "code",
      "execution_count": null,
      "id": "1dc0edbe",
      "metadata": {
        "id": "1dc0edbe",
        "colab": {
          "base_uri": "https://localhost:8080/"
        },
        "outputId": "49a917ea-2183-4333-e52e-19c568af71af"
      },
      "outputs": [
        {
          "output_type": "stream",
          "name": "stdout",
          "text": [
            "Classification Report:\n",
            "              precision    recall  f1-score   support\n",
            "\n",
            "           0       0.08      0.07      0.08       161\n",
            "           1       0.20      0.20      0.20       501\n",
            "           2       0.17      0.16      0.16       501\n",
            "           3       0.19      0.20      0.20       521\n",
            "           4       0.23      0.22      0.22       558\n",
            "           5       0.20      0.20      0.20       509\n",
            "\n",
            "    accuracy                           0.19      2751\n",
            "   macro avg       0.18      0.18      0.18      2751\n",
            "weighted avg       0.19      0.19      0.19      2751\n",
            "\n",
            "\n",
            "Confusion Matrix:\n",
            "[[ 12  24  30  32  35  28]\n",
            " [ 33 101 104  89  90  84]\n",
            " [ 31  93  82  95 106  94]\n",
            " [ 27 101 100 103  94  96]\n",
            " [ 26  92  89 114 124 113]\n",
            " [ 29  89  91 101  96 103]]\n"
          ]
        }
      ],
      "source": [
        "from sklearn.metrics import classification_report, confusion_matrix\n",
        "\n",
        "y_pred_classes = np.argmax(y_pred, axis=1)\n",
        "\n",
        "print(\"Classification Report:\")\n",
        "print(classification_report(y_true, y_pred_classes))\n",
        "\n",
        "\n",
        "print(\"\\nConfusion Matrix:\")\n",
        "print(confusion_matrix(y_true, y_pred_classes))\n"
      ]
    },
    {
      "cell_type": "code",
      "source": [
        "cf = confusion_matrix(y_true, y_pred_classes)"
      ],
      "metadata": {
        "id": "r2U85T39rxef"
      },
      "id": "r2U85T39rxef",
      "execution_count": null,
      "outputs": []
    },
    {
      "cell_type": "code",
      "source": [
        "import seaborn as sns"
      ],
      "metadata": {
        "id": "VjAHmwiXpnsp"
      },
      "id": "VjAHmwiXpnsp",
      "execution_count": null,
      "outputs": []
    },
    {
      "cell_type": "code",
      "source": [
        "plt.figure(figsize=(8, 6))\n",
        "sns.set(font_scale=1.2)  # Adjust font size\n",
        "sns.heatmap(cf, annot=True, fmt=\"d\", cmap=\"Blues\")\n",
        "plt.title('Confusion Matrix')\n",
        "plt.xlabel('Predicted')\n",
        "plt.ylabel('Actual')\n",
        "plt.show()"
      ],
      "metadata": {
        "id": "4EpCToTArrBa",
        "colab": {
          "base_uri": "https://localhost:8080/",
          "height": 578
        },
        "outputId": "fdd98f8c-5aac-428d-d015-547cdc021e59"
      },
      "id": "4EpCToTArrBa",
      "execution_count": null,
      "outputs": [
        {
          "output_type": "display_data",
          "data": {
            "text/plain": [
              "<Figure size 800x600 with 2 Axes>"
            ],
            "image/png": "[encoded data removed]"
          },
          "metadata": {}
        }
      ]
    },
    {
      "cell_type": "code",
      "source": [],
      "metadata": {
        "id": "xDvTRgHRoV8d"
      },
      "id": "xDvTRgHRoV8d",
      "execution_count": null,
      "outputs": []
    },
    {
      "cell_type": "code",
      "source": [
        "from sklearn.metrics import classification_report, confusion_matrix\n",
        "\n",
        "y_pred_classes = np.argmax(y_pred, axis=1)\n",
        "\n",
        "print(\"Classification Report:\")\n",
        "print(classification_report(y_true, y_pred_classes))\n",
        "\n",
        "\n",
        "print(\"\\nConfusion Matrix:\")\n",
        "print(confusion_matrix(y_true, y_pred_classes))"
      ],
      "metadata": {
        "id": "XCJrk7bboVpo",
        "colab": {
          "base_uri": "https://localhost:8080/"
        },
        "outputId": "1d15e6e3-7ded-4a00-b97e-1c308e9ad867"
      },
      "id": "XCJrk7bboVpo",
      "execution_count": null,
      "outputs": [
        {
          "output_type": "stream",
          "name": "stdout",
          "text": [
            "Classification Report:\n",
            "              precision    recall  f1-score   support\n",
            "\n",
            "           0       0.01      0.01      0.01       161\n",
            "           1       0.21      0.21      0.21      1002\n",
            "           2       0.19      0.18      0.19      1002\n",
            "           3       0.20      0.20      0.20      1030\n",
            "           4       0.12      0.12      0.12       558\n",
            "           5       0.23      0.23      0.23      1038\n",
            "\n",
            "    accuracy                           0.19      4791\n",
            "   macro avg       0.16      0.16      0.16      4791\n",
            "weighted avg       0.19      0.19      0.19      4791\n",
            "\n",
            "\n",
            "Confusion Matrix:\n",
            "[[  2  32  39  39  23  26]\n",
            " [ 34 210 209 234 110 205]\n",
            " [ 37 209 185 215 113 243]\n",
            " [ 35 224 213 210 130 218]\n",
            " [ 21 110 116 113  65 133]\n",
            " [ 26 217 215 223 114 243]]\n"
          ]
        }
      ]
    },
    {
      "cell_type": "code",
      "source": [],
      "metadata": {
        "id": "PUwRbQRrwcCo"
      },
      "id": "PUwRbQRrwcCo",
      "execution_count": null,
      "outputs": []
    }
  ],
  "metadata": {
    "kernelspec": {
      "display_name": "Python 3",
      "name": "python3"
    },
    "language_info": {
      "codemirror_mode": {
        "name": "ipython",
        "version": 3
      },
      "file_extension": ".py",
      "mimetype": "text/x-python",
      "name": "python",
      "nbconvert_exporter": "python",
      "pygments_lexer": "ipython3",
      "version": "3.10.9"
    },
    "colab": {
      "provenance": []
    },
    "accelerator": "TPU"
  },
  "nbformat": 4,
  "nbformat_minor": 5
}