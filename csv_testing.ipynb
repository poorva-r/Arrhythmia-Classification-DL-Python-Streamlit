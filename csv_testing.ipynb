{
 "cells": [
  {
   "cell_type": "code",
   "execution_count": 1,
   "id": "e0fa5ac1",
   "metadata": {},
   "outputs": [],
   "source": [
    "import numpy as np \n",
    "import pandas as pd \n",
    "import os\n",
    "\n",
    "import matplotlib.pyplot as plt\n",
    "import csv\n",
    "import itertools\n",
    "import collections\n",
    "\n",
    "import pywt\n",
    "from scipy import stats\n",
    "\n",
    "from sklearn.utils import resample\n",
    "from sklearn.model_selection import train_test_split\n",
    "\n",
    "import keras\n",
    "from keras.models import Sequential\n",
    "from keras.layers import Conv1D, AvgPool1D, Flatten, Dense, Dropout, Softmax,MaxPool1D,MaxPooling1D\n",
    "from keras.optimizers import Adam \n",
    "from keras.utils import to_categorical\n",
    "from keras.utils import plot_model\n",
    "from keras import regularizers\n"
   ]
  },
  {
   "cell_type": "code",
   "execution_count": 3,
   "id": "7576edd0",
   "metadata": {},
   "outputs": [],
   "source": [
    "from tensorflow.keras.models import load_model"
   ]
  },
  {
   "cell_type": "code",
   "execution_count": 4,
   "id": "8f82bc5d",
   "metadata": {},
   "outputs": [],
   "source": [
    "model=load_model('csv_model')"
   ]
  },
  {
   "cell_type": "code",
   "execution_count": 5,
   "id": "9f0a41da",
   "metadata": {},
   "outputs": [
    {
     "name": "stdout",
     "output_type": "stream",
     "text": [
      "Model: \"sequential\"\n",
      "_________________________________________________________________\n",
      " Layer (type)                Output Shape              Param #   \n",
      "=================================================================\n",
      " conv1d (Conv1D)             (None, 2000, 16)          224       \n",
      "                                                                 \n",
      " max_pooling1d (MaxPooling1D  (None, 999, 16)          0         \n",
      " )                                                               \n",
      "                                                                 \n",
      " conv1d_1 (Conv1D)           (None, 999, 32)           7712      \n",
      "                                                                 \n",
      " max_pooling1d_1 (MaxPooling  (None, 499, 32)          0         \n",
      " 1D)                                                             \n",
      "                                                                 \n",
      " conv1d_2 (Conv1D)           (None, 499, 64)           34880     \n",
      "                                                                 \n",
      " max_pooling1d_2 (MaxPooling  (None, 249, 64)          0         \n",
      " 1D)                                                             \n",
      "                                                                 \n",
      " conv1d_3 (Conv1D)           (None, 249, 128)          155776    \n",
      "                                                                 \n",
      " max_pooling1d_3 (MaxPooling  (None, 124, 128)         0         \n",
      " 1D)                                                             \n",
      "                                                                 \n",
      " flatten (Flatten)           (None, 15872)             0         \n",
      "                                                                 \n",
      " dropout (Dropout)           (None, 15872)             0         \n",
      "                                                                 \n",
      " dense (Dense)               (None, 35)                555555    \n",
      "                                                                 \n",
      " dense_1 (Dense)             (None, 5)                 180       \n",
      "                                                                 \n",
      " softmax (Softmax)           (None, 5)                 0         \n",
      "                                                                 \n",
      "=================================================================\n",
      "Total params: 754,327\n",
      "Trainable params: 754,327\n",
      "Non-trainable params: 0\n",
      "_________________________________________________________________\n"
     ]
    }
   ],
   "source": [
    "model.summary()"
   ]
  },
  {
   "cell_type": "code",
   "execution_count": 20,
   "id": "f78412ef",
   "metadata": {},
   "outputs": [],
   "source": [
    "window_size = 1000\n",
    "maximum_counting = 10000"
   ]
  },
  {
   "cell_type": "code",
   "execution_count": 46,
   "id": "3bf93385",
   "metadata": {},
   "outputs": [],
   "source": [
    "record_file = \"mitbih_database/100.csv\"\n",
    "annotation_file = \"mitbih_database/100annotations.txt\""
   ]
  },
  {
   "cell_type": "code",
   "execution_count": 56,
   "id": "e93100d7",
   "metadata": {},
   "outputs": [],
   "source": [
    "import csv\n",
    "\n",
    "signals = []\n",
    "\n",
    "with open(record_file, 'rt') as csvfile:\n",
    "    spamreader = csv.reader(csvfile, delimiter=',', quotechar='|')  \n",
    "\n",
    "    header = next(spamreader, None)\n",
    "\n",
    "    for row_index, row in enumerate(spamreader):\n",
    "            signals.append(int(row[1]))\n"
   ]
  },
  {
   "cell_type": "code",
   "execution_count": 58,
   "id": "71a78a53",
   "metadata": {},
   "outputs": [
    {
     "data": {
      "image/png": "[encoded data removed]",
      "text/plain": [
       "<Figure size 640x480 with 1 Axes>"
      ]
     },
     "metadata": {},
     "output_type": "display_data"
    }
   ],
   "source": [
    "plt.title(record_file + \" Wave\")\n",
    "plt.plot(signals[0:700])\n",
    "plt.show()"
   ]
  },
  {
   "cell_type": "code",
   "execution_count": 59,
   "id": "d2ec2f31",
   "metadata": {},
   "outputs": [],
   "source": [
    "signals = stats.zscore(signals)"
   ]
  },
  {
   "cell_type": "code",
   "execution_count": 60,
   "id": "e8a544b8",
   "metadata": {},
   "outputs": [
    {
     "data": {
      "image/png": "[encoded data removed]",
      "text/plain": [
       "<Figure size 640x480 with 1 Axes>"
      ]
     },
     "metadata": {},
     "output_type": "display_data"
    }
   ],
   "source": [
    "plt.title(record_file + \" Wave after Z-score Normalization\")\n",
    "plt.plot(signals[0:700])\n",
    "plt.show()"
   ]
  },
  {
   "cell_type": "code",
   "execution_count": 61,
   "id": "5178b21e",
   "metadata": {},
   "outputs": [],
   "source": [
    "X = list()"
   ]
  },
  {
   "cell_type": "code",
   "execution_count": 62,
   "id": "6e6e1dac",
   "metadata": {},
   "outputs": [],
   "source": [
    "with open(annotation_file, 'r') as fileID:\n",
    "    data = fileID.readlines()\n",
    "    beat = list()\n",
    "\n",
    "    for d in range(1, len(data)): \n",
    "        splitted = data[d].split(' ')\n",
    "        splitted = filter(None, splitted)\n",
    "        next(splitted) \n",
    "        pos = int(next(splitted)) \n",
    "\n",
    "        if window_size <= pos and pos < (len(signals) - window_size):\n",
    "            beat = signals[pos - window_size:pos + window_size] \n",
    "\n",
    "            X.append(beat)"
   ]
  },
  {
   "cell_type": "code",
   "execution_count": 63,
   "id": "3848b2c6",
   "metadata": {},
   "outputs": [
    {
     "data": {
      "text/plain": [
       "(2265, 2000)"
      ]
     },
     "execution_count": 63,
     "metadata": {},
     "output_type": "execute_result"
    }
   ],
   "source": [
    "np.shape(X)"
   ]
  },
  {
   "cell_type": "code",
   "execution_count": 64,
   "id": "daace051",
   "metadata": {},
   "outputs": [],
   "source": [
    "df = pd.DataFrame(X)"
   ]
  },
  {
   "cell_type": "code",
   "execution_count": 65,
   "id": "78d23abb",
   "metadata": {},
   "outputs": [
    {
     "data": {
      "text/html": [
       "<div>\n",
       "<style scoped>\n",
       "    .dataframe tbody tr th:only-of-type {\n",
       "        vertical-align: middle;\n",
       "    }\n",
       "\n",
       "    .dataframe tbody tr th {\n",
       "        vertical-align: top;\n",
       "    }\n",
       "\n",
       "    .dataframe thead th {\n",
       "        text-align: right;\n",
       "    }\n",
       "</style>\n",
       "<table border=\"1\" class=\"dataframe\">\n",
       "  <thead>\n",
       "    <tr style=\"text-align: right;\">\n",
       "      <th></th>\n",
       "      <th>0</th>\n",
       "      <th>1</th>\n",
       "      <th>2</th>\n",
       "      <th>3</th>\n",
       "      <th>4</th>\n",
       "      <th>5</th>\n",
       "      <th>6</th>\n",
       "      <th>7</th>\n",
       "      <th>8</th>\n",
       "      <th>9</th>\n",
       "      <th>...</th>\n",
       "      <th>1990</th>\n",
       "      <th>1991</th>\n",
       "      <th>1992</th>\n",
       "      <th>1993</th>\n",
       "      <th>1994</th>\n",
       "      <th>1995</th>\n",
       "      <th>1996</th>\n",
       "      <th>1997</th>\n",
       "      <th>1998</th>\n",
       "      <th>1999</th>\n",
       "    </tr>\n",
       "  </thead>\n",
       "  <tbody>\n",
       "    <tr>\n",
       "      <th>0</th>\n",
       "      <td>0.136123</td>\n",
       "      <td>0.136123</td>\n",
       "      <td>0.110243</td>\n",
       "      <td>0.162003</td>\n",
       "      <td>0.162003</td>\n",
       "      <td>0.213763</td>\n",
       "      <td>0.187883</td>\n",
       "      <td>0.110243</td>\n",
       "      <td>0.084363</td>\n",
       "      <td>0.136123</td>\n",
       "      <td>...</td>\n",
       "      <td>-0.174436</td>\n",
       "      <td>-0.200316</td>\n",
       "      <td>-0.252076</td>\n",
       "      <td>-0.329716</td>\n",
       "      <td>-0.226196</td>\n",
       "      <td>-0.226196</td>\n",
       "      <td>-0.226196</td>\n",
       "      <td>-0.200316</td>\n",
       "      <td>-0.226196</td>\n",
       "      <td>-0.252076</td>\n",
       "    </tr>\n",
       "    <tr>\n",
       "      <th>1</th>\n",
       "      <td>-0.045036</td>\n",
       "      <td>-0.019156</td>\n",
       "      <td>0.058483</td>\n",
       "      <td>0.084363</td>\n",
       "      <td>0.006723</td>\n",
       "      <td>-0.019156</td>\n",
       "      <td>-0.070916</td>\n",
       "      <td>-0.045036</td>\n",
       "      <td>0.032603</td>\n",
       "      <td>-0.045036</td>\n",
       "      <td>...</td>\n",
       "      <td>-0.976716</td>\n",
       "      <td>-1.080236</td>\n",
       "      <td>-1.002596</td>\n",
       "      <td>-0.924956</td>\n",
       "      <td>-0.950836</td>\n",
       "      <td>-0.924956</td>\n",
       "      <td>-1.002596</td>\n",
       "      <td>-1.002596</td>\n",
       "      <td>-0.950836</td>\n",
       "      <td>-0.899076</td>\n",
       "    </tr>\n",
       "    <tr>\n",
       "      <th>2</th>\n",
       "      <td>-0.226196</td>\n",
       "      <td>-0.174436</td>\n",
       "      <td>-0.148556</td>\n",
       "      <td>-0.122676</td>\n",
       "      <td>-0.148556</td>\n",
       "      <td>-0.174436</td>\n",
       "      <td>-0.277956</td>\n",
       "      <td>-0.226196</td>\n",
       "      <td>-0.226196</td>\n",
       "      <td>-0.252076</td>\n",
       "      <td>...</td>\n",
       "      <td>-0.562636</td>\n",
       "      <td>-0.614396</td>\n",
       "      <td>-0.614396</td>\n",
       "      <td>-0.588516</td>\n",
       "      <td>-0.536756</td>\n",
       "      <td>-0.536756</td>\n",
       "      <td>-0.588516</td>\n",
       "      <td>-0.640276</td>\n",
       "      <td>-0.614396</td>\n",
       "      <td>-0.588516</td>\n",
       "    </tr>\n",
       "    <tr>\n",
       "      <th>3</th>\n",
       "      <td>-0.407356</td>\n",
       "      <td>-0.329716</td>\n",
       "      <td>-0.303836</td>\n",
       "      <td>-0.329716</td>\n",
       "      <td>-0.355596</td>\n",
       "      <td>-0.226196</td>\n",
       "      <td>-0.148556</td>\n",
       "      <td>-0.070916</td>\n",
       "      <td>-0.045036</td>\n",
       "      <td>-0.070916</td>\n",
       "      <td>...</td>\n",
       "      <td>-0.433236</td>\n",
       "      <td>-0.459116</td>\n",
       "      <td>-0.381476</td>\n",
       "      <td>-0.355596</td>\n",
       "      <td>-0.381476</td>\n",
       "      <td>-0.407356</td>\n",
       "      <td>-0.484996</td>\n",
       "      <td>-0.407356</td>\n",
       "      <td>-0.381476</td>\n",
       "      <td>-0.355596</td>\n",
       "    </tr>\n",
       "    <tr>\n",
       "      <th>4</th>\n",
       "      <td>-0.174436</td>\n",
       "      <td>-0.122676</td>\n",
       "      <td>-0.070916</td>\n",
       "      <td>-0.045036</td>\n",
       "      <td>-0.096796</td>\n",
       "      <td>-0.148556</td>\n",
       "      <td>-0.252076</td>\n",
       "      <td>-0.200316</td>\n",
       "      <td>-0.174436</td>\n",
       "      <td>-0.148556</td>\n",
       "      <td>...</td>\n",
       "      <td>0.084363</td>\n",
       "      <td>0.084363</td>\n",
       "      <td>0.032603</td>\n",
       "      <td>0.136123</td>\n",
       "      <td>0.162003</td>\n",
       "      <td>0.239643</td>\n",
       "      <td>0.239643</td>\n",
       "      <td>0.187883</td>\n",
       "      <td>0.213763</td>\n",
       "      <td>0.265523</td>\n",
       "    </tr>\n",
       "    <tr>\n",
       "      <th>...</th>\n",
       "      <td>...</td>\n",
       "      <td>...</td>\n",
       "      <td>...</td>\n",
       "      <td>...</td>\n",
       "      <td>...</td>\n",
       "      <td>...</td>\n",
       "      <td>...</td>\n",
       "      <td>...</td>\n",
       "      <td>...</td>\n",
       "      <td>...</td>\n",
       "      <td>...</td>\n",
       "      <td>...</td>\n",
       "      <td>...</td>\n",
       "      <td>...</td>\n",
       "      <td>...</td>\n",
       "      <td>...</td>\n",
       "      <td>...</td>\n",
       "      <td>...</td>\n",
       "      <td>...</td>\n",
       "      <td>...</td>\n",
       "      <td>...</td>\n",
       "    </tr>\n",
       "    <tr>\n",
       "      <th>2260</th>\n",
       "      <td>-0.666156</td>\n",
       "      <td>-0.614396</td>\n",
       "      <td>-0.614396</td>\n",
       "      <td>-0.640276</td>\n",
       "      <td>-0.666156</td>\n",
       "      <td>-0.769676</td>\n",
       "      <td>-0.717916</td>\n",
       "      <td>-0.666156</td>\n",
       "      <td>-0.666156</td>\n",
       "      <td>-0.743796</td>\n",
       "      <td>...</td>\n",
       "      <td>0.627843</td>\n",
       "      <td>0.627843</td>\n",
       "      <td>0.731363</td>\n",
       "      <td>0.783123</td>\n",
       "      <td>0.731363</td>\n",
       "      <td>0.834883</td>\n",
       "      <td>0.834883</td>\n",
       "      <td>0.834883</td>\n",
       "      <td>0.757243</td>\n",
       "      <td>0.653723</td>\n",
       "    </tr>\n",
       "    <tr>\n",
       "      <th>2261</th>\n",
       "      <td>-0.614396</td>\n",
       "      <td>-0.562636</td>\n",
       "      <td>-0.510876</td>\n",
       "      <td>-0.484996</td>\n",
       "      <td>-0.562636</td>\n",
       "      <td>-0.562636</td>\n",
       "      <td>-0.536756</td>\n",
       "      <td>-0.484996</td>\n",
       "      <td>-0.459116</td>\n",
       "      <td>-0.459116</td>\n",
       "      <td>...</td>\n",
       "      <td>-0.019156</td>\n",
       "      <td>-0.122676</td>\n",
       "      <td>-0.148556</td>\n",
       "      <td>-0.070916</td>\n",
       "      <td>-0.019156</td>\n",
       "      <td>-0.045036</td>\n",
       "      <td>-0.122676</td>\n",
       "      <td>-0.174436</td>\n",
       "      <td>-0.200316</td>\n",
       "      <td>-0.148556</td>\n",
       "    </tr>\n",
       "    <tr>\n",
       "      <th>2262</th>\n",
       "      <td>0.084363</td>\n",
       "      <td>0.058483</td>\n",
       "      <td>0.058483</td>\n",
       "      <td>0.110243</td>\n",
       "      <td>0.187883</td>\n",
       "      <td>0.136123</td>\n",
       "      <td>0.187883</td>\n",
       "      <td>0.136123</td>\n",
       "      <td>0.136123</td>\n",
       "      <td>0.110243</td>\n",
       "      <td>...</td>\n",
       "      <td>-0.226196</td>\n",
       "      <td>-0.252076</td>\n",
       "      <td>-0.329716</td>\n",
       "      <td>-0.536756</td>\n",
       "      <td>-0.743796</td>\n",
       "      <td>-0.950836</td>\n",
       "      <td>-1.028476</td>\n",
       "      <td>-1.209635</td>\n",
       "      <td>-1.494315</td>\n",
       "      <td>-1.339035</td>\n",
       "    </tr>\n",
       "    <tr>\n",
       "      <th>2263</th>\n",
       "      <td>-0.329716</td>\n",
       "      <td>-0.329716</td>\n",
       "      <td>-0.329716</td>\n",
       "      <td>-0.355596</td>\n",
       "      <td>-0.329716</td>\n",
       "      <td>-0.303836</td>\n",
       "      <td>-0.277956</td>\n",
       "      <td>-0.252076</td>\n",
       "      <td>-0.252076</td>\n",
       "      <td>-0.303836</td>\n",
       "      <td>...</td>\n",
       "      <td>-1.364915</td>\n",
       "      <td>-1.494315</td>\n",
       "      <td>-1.597835</td>\n",
       "      <td>-1.390795</td>\n",
       "      <td>-0.873196</td>\n",
       "      <td>-0.226196</td>\n",
       "      <td>0.601963</td>\n",
       "      <td>1.921842</td>\n",
       "      <td>3.526401</td>\n",
       "      <td>4.949799</td>\n",
       "    </tr>\n",
       "    <tr>\n",
       "      <th>2264</th>\n",
       "      <td>-0.562636</td>\n",
       "      <td>-0.484996</td>\n",
       "      <td>-0.459116</td>\n",
       "      <td>-0.484996</td>\n",
       "      <td>-0.510876</td>\n",
       "      <td>-0.562636</td>\n",
       "      <td>-0.459116</td>\n",
       "      <td>-0.433236</td>\n",
       "      <td>-0.433236</td>\n",
       "      <td>-0.433236</td>\n",
       "      <td>...</td>\n",
       "      <td>-1.131996</td>\n",
       "      <td>-1.183756</td>\n",
       "      <td>-1.235515</td>\n",
       "      <td>-1.235515</td>\n",
       "      <td>-1.287275</td>\n",
       "      <td>-1.416675</td>\n",
       "      <td>-1.546075</td>\n",
       "      <td>-1.753115</td>\n",
       "      <td>-1.908395</td>\n",
       "      <td>-2.063675</td>\n",
       "    </tr>\n",
       "  </tbody>\n",
       "</table>\n",
       "<p>2265 rows × 2000 columns</p>\n",
       "</div>"
      ],
      "text/plain": [
       "          0         1         2         3         4         5         6     \\\n",
       "0     0.136123  0.136123  0.110243  0.162003  0.162003  0.213763  0.187883   \n",
       "1    -0.045036 -0.019156  0.058483  0.084363  0.006723 -0.019156 -0.070916   \n",
       "2    -0.226196 -0.174436 -0.148556 -0.122676 -0.148556 -0.174436 -0.277956   \n",
       "3    -0.407356 -0.329716 -0.303836 -0.329716 -0.355596 -0.226196 -0.148556   \n",
       "4    -0.174436 -0.122676 -0.070916 -0.045036 -0.096796 -0.148556 -0.252076   \n",
       "...        ...       ...       ...       ...       ...       ...       ...   \n",
       "2260 -0.666156 -0.614396 -0.614396 -0.640276 -0.666156 -0.769676 -0.717916   \n",
       "2261 -0.614396 -0.562636 -0.510876 -0.484996 -0.562636 -0.562636 -0.536756   \n",
       "2262  0.084363  0.058483  0.058483  0.110243  0.187883  0.136123  0.187883   \n",
       "2263 -0.329716 -0.329716 -0.329716 -0.355596 -0.329716 -0.303836 -0.277956   \n",
       "2264 -0.562636 -0.484996 -0.459116 -0.484996 -0.510876 -0.562636 -0.459116   \n",
       "\n",
       "          7         8         9     ...      1990      1991      1992  \\\n",
       "0     0.110243  0.084363  0.136123  ... -0.174436 -0.200316 -0.252076   \n",
       "1    -0.045036  0.032603 -0.045036  ... -0.976716 -1.080236 -1.002596   \n",
       "2    -0.226196 -0.226196 -0.252076  ... -0.562636 -0.614396 -0.614396   \n",
       "3    -0.070916 -0.045036 -0.070916  ... -0.433236 -0.459116 -0.381476   \n",
       "4    -0.200316 -0.174436 -0.148556  ...  0.084363  0.084363  0.032603   \n",
       "...        ...       ...       ...  ...       ...       ...       ...   \n",
       "2260 -0.666156 -0.666156 -0.743796  ...  0.627843  0.627843  0.731363   \n",
       "2261 -0.484996 -0.459116 -0.459116  ... -0.019156 -0.122676 -0.148556   \n",
       "2262  0.136123  0.136123  0.110243  ... -0.226196 -0.252076 -0.329716   \n",
       "2263 -0.252076 -0.252076 -0.303836  ... -1.364915 -1.494315 -1.597835   \n",
       "2264 -0.433236 -0.433236 -0.433236  ... -1.131996 -1.183756 -1.235515   \n",
       "\n",
       "          1993      1994      1995      1996      1997      1998      1999  \n",
       "0    -0.329716 -0.226196 -0.226196 -0.226196 -0.200316 -0.226196 -0.252076  \n",
       "1    -0.924956 -0.950836 -0.924956 -1.002596 -1.002596 -0.950836 -0.899076  \n",
       "2    -0.588516 -0.536756 -0.536756 -0.588516 -0.640276 -0.614396 -0.588516  \n",
       "3    -0.355596 -0.381476 -0.407356 -0.484996 -0.407356 -0.381476 -0.355596  \n",
       "4     0.136123  0.162003  0.239643  0.239643  0.187883  0.213763  0.265523  \n",
       "...        ...       ...       ...       ...       ...       ...       ...  \n",
       "2260  0.783123  0.731363  0.834883  0.834883  0.834883  0.757243  0.653723  \n",
       "2261 -0.070916 -0.019156 -0.045036 -0.122676 -0.174436 -0.200316 -0.148556  \n",
       "2262 -0.536756 -0.743796 -0.950836 -1.028476 -1.209635 -1.494315 -1.339035  \n",
       "2263 -1.390795 -0.873196 -0.226196  0.601963  1.921842  3.526401  4.949799  \n",
       "2264 -1.235515 -1.287275 -1.416675 -1.546075 -1.753115 -1.908395 -2.063675  \n",
       "\n",
       "[2265 rows x 2000 columns]"
      ]
     },
     "execution_count": 65,
     "metadata": {},
     "output_type": "execute_result"
    }
   ],
   "source": [
    "df"
   ]
  },
  {
   "cell_type": "code",
   "execution_count": 68,
   "id": "6f21c08f",
   "metadata": {},
   "outputs": [
    {
     "name": "stdout",
     "output_type": "stream",
     "text": [
      "71/71 [==============================] - 4s 57ms/step\n"
     ]
    }
   ],
   "source": [
    "pred = model.predict(df)"
   ]
  },
  {
   "cell_type": "code",
   "execution_count": 67,
   "id": "f5b1b9c4",
   "metadata": {},
   "outputs": [],
   "source": [
    "classes = ['N', 'L', 'R', 'A', 'V']\n",
    "n_classes = len(classes)"
   ]
  },
  {
   "cell_type": "code",
   "execution_count": 69,
   "id": "274a08a8",
   "metadata": {},
   "outputs": [
    {
     "data": {
      "text/plain": [
       "array([0, 0, 0, ..., 0, 0, 0], dtype=int64)"
      ]
     },
     "execution_count": 69,
     "metadata": {},
     "output_type": "execute_result"
    }
   ],
   "source": [
    "pred.argmax(axis=1)"
   ]
  },
  {
   "cell_type": "code",
   "execution_count": 70,
   "id": "3562702b",
   "metadata": {},
   "outputs": [
    {
     "data": {
      "text/plain": [
       "'N'"
      ]
     },
     "execution_count": 70,
     "metadata": {},
     "output_type": "execute_result"
    }
   ],
   "source": [
    "classes[np.argmax(pred)]"
   ]
  },
  {
   "cell_type": "code",
   "execution_count": 73,
   "id": "306a7f8e",
   "metadata": {},
   "outputs": [
    {
     "name": "stdout",
     "output_type": "stream",
     "text": [
      "71/71 [==============================] - 4s 56ms/step\n",
      "N\n"
     ]
    }
   ],
   "source": [
    "model=load_model('csv_model')\n",
    "\n",
    "record_file = \"mitbih_database/100.csv\"\n",
    "annotation_file = \"mitbih_database/100annotations.txt\"\n",
    "\n",
    "import csv\n",
    "\n",
    "\n",
    "signals = []\n",
    "\n",
    "with open(record_file, 'rt') as csvfile:\n",
    "    spamreader = csv.reader(csvfile, delimiter=',', quotechar='|')  \n",
    "\n",
    "    header = next(spamreader, None)\n",
    "\n",
    "    for row_index, row in enumerate(spamreader):\n",
    "            signals.append(int(row[1]))\n",
    "            \n",
    "\n",
    "signals = stats.zscore(signals)\n",
    "\n",
    "X = list()\n",
    "\n",
    "with open(annotation_file, 'r') as fileID:\n",
    "    data = fileID.readlines()\n",
    "    beat = list()\n",
    "\n",
    "    for d in range(1, len(data)): \n",
    "        splitted = data[d].split(' ')\n",
    "        splitted = filter(None, splitted)\n",
    "        next(splitted) \n",
    "        pos = int(next(splitted))  \n",
    "        \n",
    "        if window_size <= pos and pos < (len(signals) - window_size):\n",
    "            beat = signals[pos - window_size:pos + window_size]\n",
    "            X.append(beat)\n",
    "\n",
    "df = pd.DataFrame(X)\n",
    "pred = model.predict(df)\n",
    "classes = ['N', 'L', 'R', 'A', 'V']\n",
    "print(classes[np.argmax(pred)])"
   ]
  },
  {
   "cell_type": "code",
   "execution_count": null,
   "id": "1a3baf3a",
   "metadata": {},
   "outputs": [],
   "source": []
  }
 ],
 "metadata": {
  "kernelspec": {
   "display_name": "Python 3 (ipykernel)",
   "language": "python",
   "name": "python3"
  },
  "language_info": {
   "codemirror_mode": {
    "name": "ipython",
    "version": 3
   },
   "file_extension": ".py",
   "mimetype": "text/x-python",
   "name": "python",
   "nbconvert_exporter": "python",
   "pygments_lexer": "ipython3",
   "version": "3.10.9"
  }
 },
 "nbformat": 4,
 "nbformat_minor": 5
}
